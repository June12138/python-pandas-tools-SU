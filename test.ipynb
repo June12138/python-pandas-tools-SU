{
 "cells": [
  {
   "cell_type": "code",
   "execution_count": 1,
   "id": "cedf50f1",
   "metadata": {},
   "outputs": [
    {
     "data": {
      "text/html": [
       "<div>\n",
       "<style scoped>\n",
       "    .dataframe tbody tr th:only-of-type {\n",
       "        vertical-align: middle;\n",
       "    }\n",
       "\n",
       "    .dataframe tbody tr th {\n",
       "        vertical-align: top;\n",
       "    }\n",
       "\n",
       "    .dataframe thead th {\n",
       "        text-align: right;\n",
       "    }\n",
       "</style>\n",
       "<table border=\"1\" class=\"dataframe\">\n",
       "  <thead>\n",
       "    <tr style=\"text-align: right;\">\n",
       "      <th></th>\n",
       "      <th>ID</th>\n",
       "      <th>测试数据1</th>\n",
       "      <th>测试数据2</th>\n",
       "      <th>测试数据3</th>\n",
       "    </tr>\n",
       "  </thead>\n",
       "  <tbody>\n",
       "    <tr>\n",
       "      <th>3</th>\n",
       "      <td>5</td>\n",
       "      <td>533</td>\n",
       "      <td>963</td>\n",
       "      <td>145</td>\n",
       "    </tr>\n",
       "  </tbody>\n",
       "</table>\n",
       "</div>"
      ],
      "text/plain": [
       "  ID 测试数据1 测试数据2 测试数据3\n",
       "3  5   533   963   145"
      ]
     },
     "execution_count": 1,
     "metadata": {},
     "output_type": "execute_result"
    }
   ],
   "source": [
    "from dataTable import *\n",
    "import os\n",
    "A = ExTable('TestData/A.xlsx', 'Sheet1', skipRows=[1])\n",
    "B = ExTable('TestData/B.xlsx', 'Sheet1', skipRows=[1])\n",
    "\n",
    "os.system('cls')\n",
    "diff = A.Compare(B)\n",
    "diff['diffA']\n",
    "diff['diffB']\n",
    "diff['add']\n",
    "diff['remove']"
   ]
  }
 ],
 "metadata": {
  "kernelspec": {
   "display_name": "Python 3",
   "language": "python",
   "name": "python3"
  },
  "language_info": {
   "codemirror_mode": {
    "name": "ipython",
    "version": 3
   },
   "file_extension": ".py",
   "mimetype": "text/x-python",
   "name": "python",
   "nbconvert_exporter": "python",
   "pygments_lexer": "ipython3",
   "version": "3.9.13"
  }
 },
 "nbformat": 4,
 "nbformat_minor": 5
}
