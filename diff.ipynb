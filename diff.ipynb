{
 "cells": [
  {
   "cell_type": "code",
   "execution_count": 1,
   "id": "cedf50f1",
   "metadata": {},
   "outputs": [],
   "source": [
    "from dataTable import *\n",
    "from dash import *\n",
    "import os\n",
    "A = ExTable('TestData/A.xlsx', 'Sheet1', skipRows=[1])\n",
    "B = ExTable('TestData/B.xlsx', 'Sheet1', skipRows=[1])\n",
    "diff = A.Compare(B)\n",
    "def PDToDash(df, width = '1500px', height = '500px'):\n",
    "    style_table={\n",
    "        'overflowX': 'auto',  # 横向滚动\n",
    "        'overflowY': 'auto',  # 纵向滚动\n",
    "        'maxHeight': height,  # 限制表格高度\n",
    "        'maxWidth': width,  # 限制表格宽度\n",
    "    }\n",
    "    return dash_table.DataTable(df.to_dict('records'), [{\"name\": i, \"id\": i} for i in df.columns], style_table = style_table, )"
   ]
  },
  {
   "cell_type": "code",
   "execution_count": 2,
   "id": "98ce312e",
   "metadata": {},
   "outputs": [
    {
     "data": {
      "text/html": [
       "\n",
       "        <iframe\n",
       "            width=\"100%\"\n",
       "            height=\"650\"\n",
       "            src=\"http://127.0.0.1:8050/\"\n",
       "            frameborder=\"0\"\n",
       "            allowfullscreen\n",
       "            \n",
       "        ></iframe>\n",
       "        "
      ],
      "text/plain": [
       "<IPython.lib.display.IFrame at 0x287a22807f0>"
      ]
     },
     "metadata": {},
     "output_type": "display_data"
    }
   ],
   "source": [
    "# Dash 应用\n",
    "app = Dash()\n",
    "\n",
    "# 布局\n",
    "app.layout = html.Div([\n",
    "    # diffA 和 diffB 并排显示\n",
    "    html.Div([\n",
    "        html.Div([\n",
    "            html.Button('复制A表差异', id='diffA'),\n",
    "            html.Button('打开A表', id='openA'),\n",
    "            PDToDash(diff['diffA'], width='750px'),\n",
    "        ], style={'width': '50%', 'display': 'inline-block', 'verticalAlign': 'top'}),\n",
    "        html.Div([\n",
    "            html.Button('打开B表', id='openB'),\n",
    "            html.Button('复制B表差异', id='diffB'),\n",
    "            PDToDash(diff['diffB']),\n",
    "        ], style={'width': '50%', 'display': 'inline-block', 'verticalAlign': 'top'}),\n",
    "    ], style={'display': 'flex', 'gap': '20px'}),  # 使用 flex 布局并添加间距\n",
    "\n",
    "    # 其他表格\n",
    "    html.Button('复制B表增添项', id='add'),\n",
    "    PDToDash(diff['add']),\n",
    "    html.Button('复制B表删除项', id='remove'),\n",
    "    PDToDash(diff['remove']),\n",
    "])\n",
    "\n",
    "# 回调函数\n",
    "@callback(\n",
    "    Input('diffA', 'n_clicks'),\n",
    "    Input('openA', 'n_clicks'),\n",
    "    Input('diffB', 'n_clicks'),\n",
    "    Input('openB', 'n_clicks'),\n",
    "    Input('add', 'n_clicks'),\n",
    "    Input('remove', 'n_clicks'),\n",
    "    prevent_initial_call=True\n",
    ")\n",
    "def OnInteract(a, openA, b, openB, add, remove):\n",
    "    id = ctx.triggered_id\n",
    "    if id == 'openA':\n",
    "        os.system(\"start \" + A.path)\n",
    "    elif id == 'openB':\n",
    "        os.system(\"start \" + B.path)\n",
    "    else:\n",
    "        diff[id].to_clipboard(excel=True, sep=None, index=False, header=None)\n",
    "\n",
    "if __name__ == '__main__':\n",
    "    app.run(debug=False)"
   ]
  }
 ],
 "metadata": {
  "kernelspec": {
   "display_name": "Python 3",
   "language": "python",
   "name": "python3"
  },
  "language_info": {
   "codemirror_mode": {
    "name": "ipython",
    "version": 3
   },
   "file_extension": ".py",
   "mimetype": "text/x-python",
   "name": "python",
   "nbconvert_exporter": "python",
   "pygments_lexer": "ipython3",
   "version": "3.9.13"
  }
 },
 "nbformat": 4,
 "nbformat_minor": 5
}
