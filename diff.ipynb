{
 "cells": [
  {
   "cell_type": "code",
   "execution_count": null,
   "id": "cedf50f1",
   "metadata": {},
   "outputs": [
    {
     "data": {
      "text/html": [
       "\n",
       "        <iframe\n",
       "            width=\"100%\"\n",
       "            height=\"650\"\n",
       "            src=\"http://127.0.0.1:8050/\"\n",
       "            frameborder=\"0\"\n",
       "            allowfullscreen\n",
       "            \n",
       "        ></iframe>\n",
       "        "
      ],
      "text/plain": [
       "<IPython.lib.display.IFrame at 0x1f0149fb370>"
      ]
     },
     "metadata": {},
     "output_type": "display_data"
    },
    {
     "name": "stdout",
     "output_type": "stream",
     "text": [
      "openA\n",
      "start TestData/A.xlsx\n"
     ]
    }
   ],
   "source": [
    "from dataTable import *\n",
    "from dash import *\n",
    "import os\n",
    "A = ExTable('TestData/A.xlsx', 'Sheet1', skipRows=[1])\n",
    "B = ExTable('TestData/B.xlsx', 'Sheet1', skipRows=[1])\n",
    "diff = A.Compare(B)\n",
    "\n",
    "def PDToDash(df):\n",
    "    return dash_table.DataTable(df.to_dict('records'), [{\"name\": i, \"id\": i} for i in df.columns])\n",
    "# App layout\n",
    "app = Dash()\n",
    "app.layout = [\n",
    "    html.Button('复制A表差异', id='diffA'),\n",
    "    html.Button('打开A表', id='openA'),\n",
    "    # 显示diff['add']表格\n",
    "    PDToDash(diff['diffA']),\n",
    "    html.Button('复制B表差异', id='diffB'),\n",
    "    html.Button('打开B表', id='openB'),\n",
    "    # 显示diff['diffB']表格\n",
    "    PDToDash(diff['diffB']),\n",
    "    html.Button('复制B表增添项', id='add'),\n",
    "    # 显示diff['add']表格\n",
    "    PDToDash(diff['add']),\n",
    "    html.Button('复制B表删除项', id='remove'),\n",
    "    # 显示diff['remove']表格\n",
    "    PDToDash(diff['remove']),\n",
    "]\n",
    "\n",
    "\n",
    "@callback(\n",
    "    Input('diffA', 'n_clicks'), \n",
    "    Input('openA', 'n_clicks'), \n",
    "    Input('diffB', 'n_clicks'),\n",
    "    Input('openB', 'n_clicks'), \n",
    "    Input('add', 'n_clicks'), \n",
    "    Input('remove', 'n_clicks'), \n",
    "    prevent_initial_call=True\n",
    ")\n",
    "def OnInteract(a,openA,b,openB,add,remove):\n",
    "    id = ctx.triggered_id\n",
    "    print(id)\n",
    "    if (id == 'openA'):\n",
    "        os.system(\"start \" + A.path)\n",
    "    elif (id == 'openB'):\n",
    "        os.system(\"start \" + B.path)\n",
    "    else:\n",
    "        diff[id].to_clipboard(excel=True, sep=None, index=False, header=None)\n",
    "if __name__ == '__main__':\n",
    "    app.run(debug=False)"
   ]
  }
 ],
 "metadata": {
  "kernelspec": {
   "display_name": "Python 3",
   "language": "python",
   "name": "python3"
  },
  "language_info": {
   "codemirror_mode": {
    "name": "ipython",
    "version": 3
   },
   "file_extension": ".py",
   "mimetype": "text/x-python",
   "name": "python",
   "nbconvert_exporter": "python",
   "pygments_lexer": "ipython3",
   "version": "3.9.13"
  }
 },
 "nbformat": 4,
 "nbformat_minor": 5
}
