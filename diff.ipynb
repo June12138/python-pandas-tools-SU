{
 "cells": [
  {
   "cell_type": "code",
   "execution_count": null,
   "id": "cedf50f1",
   "metadata": {},
   "outputs": [
    {
     "data": {
      "text/html": [
       "\n",
       "        <iframe\n",
       "            width=\"100%\"\n",
       "            height=\"650\"\n",
       "            src=\"http://127.0.0.1:8050/\"\n",
       "            frameborder=\"0\"\n",
       "            allowfullscreen\n",
       "            \n",
       "        ></iframe>\n",
       "        "
      ],
      "text/plain": [
       "<IPython.lib.display.IFrame at 0x2034f7c1820>"
      ]
     },
     "metadata": {},
     "output_type": "display_data"
    }
   ],
   "source": [
    "from dataTable import *\n",
    "from dash import *\n",
    "A = ExTable('TestData/A.xlsx', 'Sheet1', skipRows=[1])\n",
    "B = ExTable('TestData/B.xlsx', 'Sheet1', skipRows=[1])\n",
    "diff = A.Compare(B)\n",
    "\n",
    "def PDToDash(df):\n",
    "    return dash_table.DataTable(df.to_dict('records'), [{\"name\": i, \"id\": i} for i in df.columns])\n",
    "# App layout\n",
    "app = Dash()\n",
    "app.layout = [\n",
    "    html.Button('复制A表差异', id='copyA'),\n",
    "    # 显示diff['add']表格\n",
    "    PDToDash(diff['diffA']),\n",
    "    html.Button('复制B表差异', id='copyB'),\n",
    "    PDToDash(diff['diffB']),\n",
    "    html.Button('复制B表增添项', id='copyAdd'),\n",
    "    PDToDash(diff['add']),\n",
    "    html.Button('复制B表删除项', id='copyRemove'),\n",
    "    PDToDash(diff['remove']),\n",
    "]\n",
    "\n",
    "\n",
    "@callback(\n",
    "    Input('copyA', 'n_clicks'), \n",
    "    Input('copyB', 'n_clicks'),\n",
    "    Input('copyAdd', 'n_clicks'), \n",
    "    Input('copyRemove', 'n_clicks'), \n",
    "    prevent_initial_call=True\n",
    ")\n",
    "def OnInteract(a,b,add,remove):\n",
    "    id = ctx.triggered_id\n",
    "    if (id == 'copyA'):\n",
    "        diff['diffA'].to_clipboard(excel=True, sep=None, index=False, header=None)\n",
    "    elif (id == 'copyB'):\n",
    "        diff['diffB'].to_clipboard(excel=True, sep=None, index=False, header=None)\n",
    "    elif (id == 'copyAdd'):\n",
    "        diff['add'].to_clipboard(excel=True, sep=None, index=False, header=None)\n",
    "    elif (id == 'copyRemove'):\n",
    "        diff['remove'].to_clipboard(excel=True, sep=None, index=False, header=None)\n",
    "if __name__ == '__main__':\n",
    "    app.run(debug=False)"
   ]
  }
 ],
 "metadata": {
  "kernelspec": {
   "display_name": "Python 3",
   "language": "python",
   "name": "python3"
  },
  "language_info": {
   "codemirror_mode": {
    "name": "ipython",
    "version": 3
   },
   "file_extension": ".py",
   "mimetype": "text/x-python",
   "name": "python",
   "nbconvert_exporter": "python",
   "pygments_lexer": "ipython3",
   "version": "3.9.13"
  }
 },
 "nbformat": 4,
 "nbformat_minor": 5
}
